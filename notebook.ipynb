{
 "cells": [
  {
   "cell_type": "markdown",
   "id": "fe0ea788-58dd-459e-8976-fafdb5c05c6d",
   "metadata": {},
   "source": [
    "![New York City schoolbus](schoolbus.jpg)\n",
    "\n",
    "Photo by [Jannis Lucas](https://unsplash.com/@jannis_lucas) on [Unsplash](https://unsplash.com).\n",
    "<br>\n",
    "\n",
    "Every year, American high school students take SATs, which are standardized tests intended to measure literacy, numeracy, and writing skills. There are three sections - reading, math, and writing, each with a **maximum score of 800 points**. These tests are extremely important for students and colleges, as they play a pivotal role in the admissions process.\n",
    "\n",
    "Analyzing the performance of schools is important for a variety of stakeholders, including policy and education professionals, researchers, government, and even parents considering which school their children should attend. \n",
    "\n",
    "You have been provided with a dataset called `schools.csv`, which is previewed below.\n",
    "\n",
    "You have been tasked with answering three key questions about New York City (NYC) public school SAT performance."
   ]
  },
  {
   "cell_type": "code",
   "execution_count": 1,
   "id": "d0eb4f16-5a99-460d-a5ba-706b7ef0bbe7",
   "metadata": {
    "chartConfig": {
     "bar": {
      "hasRoundedCorners": true,
      "stacked": false
     },
     "type": "bar",
     "version": "v1"
    },
    "collapsed": false,
    "executionCancelledAt": null,
    "executionTime": 42,
    "id": "bA5ajAmk7XH6",
    "jupyter": {
     "outputs_hidden": false,
     "source_hidden": false
    },
    "lastExecutedAt": 1736885064252,
    "lastExecutedByKernel": "0292f8d8-e49a-44e6-a487-010c34207d5b",
    "lastScheduledRunId": null,
    "lastSuccessfullyExecutedCode": "# Re-run this cell \nimport pandas as pd\n\n# Read in the data\nschools = pd.read_csv(\"schools.csv\")\n\n# Preview the data\nschools.head()\n\n# Start coding here...\n# best math school\nbest_math_schools = schools[['school_name','average_math']][schools['average_math'] > 640].sort_values([\"average_math\"],ascending=[False])\nprint(best_math_schools)\n# adding schools_total\nschools['total_SAT'] = schools['average_math'] + schools['average_writing'] + schools['average_reading']\ntop_10_schools = schools[[\"school_name\",\"total_SAT\"]].sort_values(\"total_SAT\",ascending=False).head(10)\nprint(top_10_schools)\n# largest std borough\nschools_group_std_mean_std_of_total_SAT = schools.groupby('borough')['total_SAT'].agg([\"mean\",\"std\"]).round(2)\n# get num schools in borough\nschools_group_std_mean_std_of_total_SAT['num_schools'] = schools['borough'].value_counts()\nmax_std = schools_group_std_mean_std_of_total_SAT['std'].max()\nlargest_std_dev =  schools_group_std_mean_std_of_total_SAT[schools_group_std_mean_std_of_total_SAT['std'] == max_std]\n# rename columns\nlargest_std_dev = largest_std_dev.rename(columns={\"mean\": \"average_SAT\", \"std\": \"std_SAT\", \"num_schools\": \"num_schools\"})\nprint(largest_std_dev)",
    "outputsMetadata": {
     "0": {
      "height": 542,
      "type": "stream"
     }
    },
    "visualizeDataframe": false
   },
   "outputs": [
    {
     "name": "stdout",
     "output_type": "stream",
     "text": [
      "                                           school_name  average_math\n",
      "88                              Stuyvesant High School           754\n",
      "170                       Bronx High School of Science           714\n",
      "93                 Staten Island Technical High School           711\n",
      "365  Queens High School for the Sciences at York Co...           701\n",
      "68   High School for Mathematics, Science, and Engi...           683\n",
      "280                     Brooklyn Technical High School           682\n",
      "333                        Townsend Harris High School           680\n",
      "174  High School of American Studies at Lehman College           669\n",
      "0    New Explorations into Science, Technology and ...           657\n",
      "45                       Eleanor Roosevelt High School           641\n",
      "                                           school_name  total_SAT\n",
      "88                              Stuyvesant High School       2144\n",
      "170                       Bronx High School of Science       2041\n",
      "93                 Staten Island Technical High School       2041\n",
      "174  High School of American Studies at Lehman College       2013\n",
      "333                        Townsend Harris High School       1981\n",
      "365  Queens High School for the Sciences at York Co...       1947\n",
      "5                       Bard High School Early College       1914\n",
      "280                     Brooklyn Technical High School       1896\n",
      "45                       Eleanor Roosevelt High School       1889\n",
      "68   High School for Mathematics, Science, and Engi...       1889\n",
      "           average_SAT  std_SAT  num_schools\n",
      "borough                                     \n",
      "Manhattan      1340.13   230.29           89\n"
     ]
    }
   ],
   "source": [
    "# Re-run this cell \n",
    "import pandas as pd\n",
    "\n",
    "# Read in the data\n",
    "schools = pd.read_csv(\"schools.csv\")\n",
    "\n",
    "# Preview the data\n",
    "print(schools.head())\n",
    "\n",
    "# Start coding here...\n",
    "# best math school\n",
    "best_math_schools = schools[['school_name','average_math']][schools['average_math'] > 640].sort_values([\"average_math\"],ascending=[False])\n",
    "print(best_math_schools)\n",
    "# adding schools_total\n",
    "schools['total_SAT'] = schools['average_math'] + schools['average_writing'] + schools['average_reading']\n",
    "top_10_schools = schools[[\"school_name\",\"total_SAT\"]].sort_values(\"total_SAT\",ascending=False).head(10)\n",
    "print(top_10_schools)\n",
    "# largest std borough\n",
    "schools_group_std_mean_std_of_total_SAT = schools.groupby('borough')['total_SAT'].agg([\"mean\",\"std\"]).round(2)\n",
    "# get num schools in borough\n",
    "schools_group_std_mean_std_of_total_SAT['num_schools'] = schools['borough'].value_counts()\n",
    "max_std = schools_group_std_mean_std_of_total_SAT['std'].max()\n",
    "largest_std_dev =  schools_group_std_mean_std_of_total_SAT[schools_group_std_mean_std_of_total_SAT['std'] == max_std]\n",
    "# rename columns\n",
    "largest_std_dev = largest_std_dev.rename(columns={\"mean\": \"average_SAT\", \"std\": \"std_SAT\", \"num_schools\": \"num_schools\"})\n",
    "print(largest_std_dev)"
   ]
  }
 ],
 "metadata": {
  "editor": "DataLab",
  "kernelspec": {
   "display_name": "Python 3",
   "language": "python",
   "name": "python3"
  },
  "language_info": {
   "codemirror_mode": {
    "name": "ipython",
    "version": 3
   },
   "file_extension": ".py",
   "mimetype": "text/x-python",
   "name": "python",
   "nbconvert_exporter": "python",
   "pygments_lexer": "ipython3",
   "version": "3.12.5"
  }
 },
 "nbformat": 4,
 "nbformat_minor": 5
}
